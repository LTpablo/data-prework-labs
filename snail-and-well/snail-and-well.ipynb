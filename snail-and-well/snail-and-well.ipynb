{
 "cells": [
  {
   "cell_type": "markdown",
   "metadata": {},
   "source": [
    "# Snail and well\n",
    "\n",
    "A snail falls at the bottom of a 125 cm well. Each day the snail rises 30 cm. But at night, while sleeping, slides 20 cm because the walls are wet. How many days does it take to escape from the well?\n",
    "\n",
    "TIP: http://puzzles.nigelcoldwell.co.uk/sixtytwo.htm"
   ]
  },
  {
   "cell_type": "markdown",
   "metadata": {},
   "source": [
    "## Solución"
   ]
  },
  {
   "cell_type": "code",
   "execution_count": 1,
   "metadata": {},
   "outputs": [
    {
     "name": "stdout",
     "output_type": "stream",
     "text": [
      "Days:  12.5\n"
     ]
    }
   ],
   "source": [
    "# Assign problem data to variables with representative names\n",
    "# well height, daily advance, night retreat, accumulated distance\n",
    "\n",
    "daily_advance = 30\n",
    "night_retreat = 20\n",
    "well_height = 125\n",
    "\n",
    "# Assign 0 to the variable that represents the solution\n",
    "\n",
    "days = 0\n",
    "\n",
    "# Write the code that solves the problem\n",
    "\n",
    "days = well_height/(daily_advance - night_retreat)\n",
    "\n",
    "# Print the result with print('Days =', days)\n",
    "\n",
    "print(\"Days: \", days)"
   ]
  },
  {
   "cell_type": "markdown",
   "metadata": {},
   "source": [
    "## Goals\n",
    "\n",
    "1. Treatment of variables\n",
    "2. Use of loop **while**\n",
    "3. Use of conditional **if-else**\n",
    "4. Print in console"
   ]
  },
  {
   "cell_type": "markdown",
   "metadata": {},
   "source": [
    "## Bonus\n",
    "The distance traveled by the snail is now defined by a list.\n",
    "```\n",
    "advance_cm = [30, 21, 33, 77, 44, 45, 23, 45, 12, 34, 55]\n",
    "```\n",
    "How long does it take to raise the well?\n",
    "\n",
    "What is its maximum displacement in one day? And its minimum?\n",
    "\n",
    "What is its average speed during the day?\n",
    "\n",
    "What is the standard deviation of its displacement during the day?"
   ]
  },
  {
   "cell_type": "code",
   "execution_count": 27,
   "metadata": {},
   "outputs": [
    {
     "name": "stdout",
     "output_type": "stream",
     "text": [
      "Days:  6\n",
      "Daily advance:  [10, 1, 13, 57, 24, 25]\n",
      "Maximum:  57\n",
      "Minimum:  1\n",
      "Average progress: 21.67\n",
      "Average daily advance:  41.67\n",
      "Std:  17.81\n"
     ]
    }
   ],
   "source": [
    "import math\n",
    "\n",
    "# Assign problem data to variables with representative names\n",
    "# well height, daily advance, night retreat, accumulated distance\n",
    "\n",
    "advance_cm = [30, 21, 33, 77, 44, 45, 23, 45, 12, 34, 55]\n",
    "\n",
    "well_height = 125\n",
    "night_retreat = 20\n",
    "\n",
    "# Assign 0 to the variable that represents the solution\n",
    "\n",
    "daily_advance = list()\n",
    "acumulated_distance = 0\n",
    "days = 0\n",
    "\n",
    "# Write the code that solves the problem\n",
    "\n",
    "for x in advance_cm:\n",
    "    daily_advance.append(x - night_retreat)\n",
    "    acumulated_distance = acumulated_distance + daily_advance[days] \n",
    "    days = days + 1\n",
    "    if acumulated_distance >= well_height:\n",
    "        break\n",
    "\n",
    "# Print the result with print('Days =', days)\n",
    "\n",
    "print(\"Days: \", days)\n",
    "print(\"Daily advance: \", daily_advance )\n",
    "\n",
    "# What is its maximum displacement in a day? And its minimum?\n",
    "\n",
    "print(\"Maximum: \", max(daily_advance))\n",
    "print(\"Minimum: \", min(daily_advance))\n",
    "\n",
    "# What is its average progress?\n",
    "\n",
    "print(\"Average progress:\", \"%.2f\" % (sum(daily_advance)/len(daily_advance)))\n",
    "\n",
    "# What is the standard deviation of your displacement during the day?\n",
    "average = 0\n",
    "\n",
    "for x in range(0, days):\n",
    "    average += advance_cm[x]\n",
    "    \n",
    "average /= days\n",
    "\n",
    "\n",
    "std = 0\n",
    "for x in range(0, days):\n",
    "    std = std + (average - advance_cm[x])**2\n",
    "\n",
    "std = std/days\n",
    "std = math.sqrt(std)\n",
    "\n",
    "\n",
    "print(\"Average daily advance: \", \"%.2f\" % average)\n",
    "print(\"Std: \", \"%.2f\" % std)\n"
   ]
  },
  {
   "cell_type": "code",
   "execution_count": null,
   "metadata": {},
   "outputs": [],
   "source": []
  }
 ],
 "metadata": {
  "kernelspec": {
   "display_name": "Python 3",
   "language": "python",
   "name": "python3"
  },
  "language_info": {
   "codemirror_mode": {
    "name": "ipython",
    "version": 3
   },
   "file_extension": ".py",
   "mimetype": "text/x-python",
   "name": "python",
   "nbconvert_exporter": "python",
   "pygments_lexer": "ipython3",
   "version": "3.6.7"
  }
 },
 "nbformat": 4,
 "nbformat_minor": 2
}
